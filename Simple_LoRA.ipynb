{
 "cells": [
  {
   "cell_type": "markdown",
   "id": "02edbd44",
   "metadata": {
    "papermill": {
     "duration": 0.006911,
     "end_time": "2024-07-23T09:21:53.970266",
     "exception": false,
     "start_time": "2024-07-23T09:21:53.963355",
     "status": "completed"
    },
    "tags": []
   },
   "source": [
    "# **Huấn luyện vài mô hình mạng đơn giản với LoRA**"
   ]
  },
  {
   "cell_type": "code",
   "execution_count": 1,
   "id": "7793782b",
   "metadata": {
    "execution": {
     "iopub.execute_input": "2024-07-23T09:21:53.985724Z",
     "iopub.status.busy": "2024-07-23T09:21:53.985298Z",
     "iopub.status.idle": "2024-07-23T09:22:11.090426Z",
     "shell.execute_reply": "2024-07-23T09:22:11.088702Z"
    },
    "papermill": {
     "duration": 17.116154,
     "end_time": "2024-07-23T09:22:11.093209",
     "exception": false,
     "start_time": "2024-07-23T09:21:53.977055",
     "status": "completed"
    },
    "tags": []
   },
   "outputs": [
    {
     "name": "stdout",
     "output_type": "stream",
     "text": [
      "Collecting peft\r\n",
      "  Downloading peft-0.11.1-py3-none-any.whl.metadata (13 kB)\r\n",
      "Requirement already satisfied: numpy>=1.17 in /opt/conda/lib/python3.10/site-packages (from peft) (1.26.4)\r\n",
      "Requirement already satisfied: packaging>=20.0 in /opt/conda/lib/python3.10/site-packages (from peft) (21.3)\r\n",
      "Requirement already satisfied: psutil in /opt/conda/lib/python3.10/site-packages (from peft) (5.9.3)\r\n",
      "Requirement already satisfied: pyyaml in /opt/conda/lib/python3.10/site-packages (from peft) (6.0.1)\r\n",
      "Requirement already satisfied: torch>=1.13.0 in /opt/conda/lib/python3.10/site-packages (from peft) (2.1.2+cpu)\r\n",
      "Requirement already satisfied: transformers in /opt/conda/lib/python3.10/site-packages (from peft) (4.42.3)\r\n",
      "Requirement already satisfied: tqdm in /opt/conda/lib/python3.10/site-packages (from peft) (4.66.4)\r\n",
      "Requirement already satisfied: accelerate>=0.21.0 in /opt/conda/lib/python3.10/site-packages (from peft) (0.32.1)\r\n",
      "Requirement already satisfied: safetensors in /opt/conda/lib/python3.10/site-packages (from peft) (0.4.3)\r\n",
      "Requirement already satisfied: huggingface-hub>=0.17.0 in /opt/conda/lib/python3.10/site-packages (from peft) (0.23.4)\r\n",
      "Requirement already satisfied: filelock in /opt/conda/lib/python3.10/site-packages (from huggingface-hub>=0.17.0->peft) (3.13.1)\r\n",
      "Requirement already satisfied: fsspec>=2023.5.0 in /opt/conda/lib/python3.10/site-packages (from huggingface-hub>=0.17.0->peft) (2024.5.0)\r\n",
      "Requirement already satisfied: requests in /opt/conda/lib/python3.10/site-packages (from huggingface-hub>=0.17.0->peft) (2.32.3)\r\n",
      "Requirement already satisfied: typing-extensions>=3.7.4.3 in /opt/conda/lib/python3.10/site-packages (from huggingface-hub>=0.17.0->peft) (4.9.0)\r\n",
      "Requirement already satisfied: pyparsing!=3.0.5,>=2.0.2 in /opt/conda/lib/python3.10/site-packages (from packaging>=20.0->peft) (3.1.1)\r\n",
      "Requirement already satisfied: sympy in /opt/conda/lib/python3.10/site-packages (from torch>=1.13.0->peft) (1.13.0)\r\n",
      "Requirement already satisfied: networkx in /opt/conda/lib/python3.10/site-packages (from torch>=1.13.0->peft) (3.2.1)\r\n",
      "Requirement already satisfied: jinja2 in /opt/conda/lib/python3.10/site-packages (from torch>=1.13.0->peft) (3.1.2)\r\n",
      "Requirement already satisfied: regex!=2019.12.17 in /opt/conda/lib/python3.10/site-packages (from transformers->peft) (2023.12.25)\r\n",
      "Requirement already satisfied: tokenizers<0.20,>=0.19 in /opt/conda/lib/python3.10/site-packages (from transformers->peft) (0.19.1)\r\n",
      "Requirement already satisfied: MarkupSafe>=2.0 in /opt/conda/lib/python3.10/site-packages (from jinja2->torch>=1.13.0->peft) (2.1.3)\r\n",
      "Requirement already satisfied: charset-normalizer<4,>=2 in /opt/conda/lib/python3.10/site-packages (from requests->huggingface-hub>=0.17.0->peft) (3.3.2)\r\n",
      "Requirement already satisfied: idna<4,>=2.5 in /opt/conda/lib/python3.10/site-packages (from requests->huggingface-hub>=0.17.0->peft) (3.6)\r\n",
      "Requirement already satisfied: urllib3<3,>=1.21.1 in /opt/conda/lib/python3.10/site-packages (from requests->huggingface-hub>=0.17.0->peft) (1.26.18)\r\n",
      "Requirement already satisfied: certifi>=2017.4.17 in /opt/conda/lib/python3.10/site-packages (from requests->huggingface-hub>=0.17.0->peft) (2024.7.4)\r\n",
      "Requirement already satisfied: mpmath<1.4,>=1.1.0 in /opt/conda/lib/python3.10/site-packages (from sympy->torch>=1.13.0->peft) (1.3.0)\r\n",
      "Downloading peft-0.11.1-py3-none-any.whl (251 kB)\r\n",
      "\u001b[2K   \u001b[90m━━━━━━━━━━━━━━━━━━━━━━━━━━━━━━━━━━━━━━━━\u001b[0m \u001b[32m251.6/251.6 kB\u001b[0m \u001b[31m4.2 MB/s\u001b[0m eta \u001b[36m0:00:00\u001b[0m\r\n",
      "\u001b[?25hInstalling collected packages: peft\r\n",
      "Successfully installed peft-0.11.1\r\n",
      "Note: you may need to restart the kernel to use updated packages.\n"
     ]
    }
   ],
   "source": [
    "%pip install peft"
   ]
  },
  {
   "cell_type": "code",
   "execution_count": 2,
   "id": "6bbd6d44",
   "metadata": {
    "execution": {
     "iopub.execute_input": "2024-07-23T09:22:11.110699Z",
     "iopub.status.busy": "2024-07-23T09:22:11.110281Z",
     "iopub.status.idle": "2024-07-23T09:22:18.459821Z",
     "shell.execute_reply": "2024-07-23T09:22:18.458843Z"
    },
    "papermill": {
     "duration": 7.361544,
     "end_time": "2024-07-23T09:22:18.462673",
     "exception": false,
     "start_time": "2024-07-23T09:22:11.101129",
     "status": "completed"
    },
    "tags": []
   },
   "outputs": [],
   "source": [
    "import os\n",
    "import torch\n",
    "import peft\n",
    "import torchvision\n",
    "import torch.nn as nn\n",
    "import torch.nn.functional as F\n",
    "from torchvision.transforms import transforms, ToTensor, Lambda\n",
    "from torch.utils.data import DataLoader, Subset\n",
    "from torchvision.datasets import CIFAR10\n"
   ]
  },
  {
   "cell_type": "markdown",
   "id": "dc483271",
   "metadata": {
    "papermill": {
     "duration": 0.007344,
     "end_time": "2024-07-23T09:22:18.477984",
     "exception": false,
     "start_time": "2024-07-23T09:22:18.470640",
     "status": "completed"
    },
    "tags": []
   },
   "source": [
    "**1. Dataset: sử dụng CIFAR-10**"
   ]
  },
  {
   "cell_type": "code",
   "execution_count": 3,
   "id": "a5804ffb",
   "metadata": {
    "execution": {
     "iopub.execute_input": "2024-07-23T09:22:18.496560Z",
     "iopub.status.busy": "2024-07-23T09:22:18.495998Z",
     "iopub.status.idle": "2024-07-23T09:22:34.286576Z",
     "shell.execute_reply": "2024-07-23T09:22:34.285253Z"
    },
    "papermill": {
     "duration": 15.802489,
     "end_time": "2024-07-23T09:22:34.289475",
     "exception": false,
     "start_time": "2024-07-23T09:22:18.486986",
     "status": "completed"
    },
    "tags": []
   },
   "outputs": [
    {
     "name": "stdout",
     "output_type": "stream",
     "text": [
      "Downloading https://www.cs.toronto.edu/~kriz/cifar-10-python.tar.gz to data/cifar-10-python.tar.gz\n"
     ]
    },
    {
     "name": "stderr",
     "output_type": "stream",
     "text": [
      "100%|██████████| 170498071/170498071 [00:10<00:00, 16080487.38it/s]\n"
     ]
    },
    {
     "name": "stdout",
     "output_type": "stream",
     "text": [
      "Extracting data/cifar-10-python.tar.gz to data\n",
      "Files already downloaded and verified\n"
     ]
    }
   ],
   "source": [
    "batch_size = 6\n",
    "trainset = CIFAR10(\n",
    "    root='data',\n",
    "    train=True,\n",
    "    transform=ToTensor(),\n",
    "    download=True\n",
    ")\n",
    "\n",
    "testset = CIFAR10(\n",
    "    root='data',\n",
    "    train=False,\n",
    "    transform=ToTensor(),\n",
    "    download=True\n",
    ")\n",
    "\n",
    "num_batches = 100\n",
    "subset_indices = list(range(batch_size * num_batches))\n",
    "train_subset = Subset(trainset, subset_indices)\n",
    "\n",
    "train_dataloader = DataLoader(train_subset, batch_size=batch_size, shuffle=True)\n",
    "test_dataloader = DataLoader(testset, batch_size=batch_size, shuffle=True)\n",
    "\n",
    "\n",
    "num_classes = 10"
   ]
  },
  {
   "cell_type": "markdown",
   "id": "e8304100",
   "metadata": {
    "papermill": {
     "duration": 0.013663,
     "end_time": "2024-07-23T09:22:34.317282",
     "exception": false,
     "start_time": "2024-07-23T09:22:34.303619",
     "status": "completed"
    },
    "tags": []
   },
   "source": [
    "**2. Model: ta sẽ thử với 2 mạng đơn giản: MLP và CNN**"
   ]
  },
  {
   "cell_type": "code",
   "execution_count": 4,
   "id": "a67d0521",
   "metadata": {
    "execution": {
     "iopub.execute_input": "2024-07-23T09:22:34.347476Z",
     "iopub.status.busy": "2024-07-23T09:22:34.346627Z",
     "iopub.status.idle": "2024-07-23T09:22:34.356074Z",
     "shell.execute_reply": "2024-07-23T09:22:34.354315Z"
    },
    "papermill": {
     "duration": 0.027576,
     "end_time": "2024-07-23T09:22:34.358769",
     "exception": false,
     "start_time": "2024-07-23T09:22:34.331193",
     "status": "completed"
    },
    "tags": []
   },
   "outputs": [],
   "source": [
    "# MLP đơn giản\n",
    "\n",
    "class MLP(nn.Module):\n",
    "    def __init__(self, input_size = 3072, num_hidden = 2000, num_classes = 10):\n",
    "        super(MLP, self).__init__()\n",
    "        self.seq = nn.Sequential(\n",
    "            nn.Linear(input_size, num_hidden),              # 3072, phù hợp với train dữ liệu phía dưới\n",
    "            nn.ReLU(),\n",
    "            nn.Linear(num_hidden, num_hidden),\n",
    "            nn.ReLU(),\n",
    "            nn.Linear(num_hidden, num_classes),\n",
    "        )\n",
    "\n",
    "    def forward(self, x):\n",
    "        return self.seq(x)"
   ]
  },
  {
   "cell_type": "code",
   "execution_count": 5,
   "id": "68a966f8",
   "metadata": {
    "execution": {
     "iopub.execute_input": "2024-07-23T09:22:34.388346Z",
     "iopub.status.busy": "2024-07-23T09:22:34.387948Z",
     "iopub.status.idle": "2024-07-23T09:22:34.397969Z",
     "shell.execute_reply": "2024-07-23T09:22:34.396871Z"
    },
    "papermill": {
     "duration": 0.027875,
     "end_time": "2024-07-23T09:22:34.400512",
     "exception": false,
     "start_time": "2024-07-23T09:22:34.372637",
     "status": "completed"
    },
    "tags": []
   },
   "outputs": [],
   "source": [
    "# CNN đơn giản\n",
    "\n",
    "import torch\n",
    "import torch.nn as nn\n",
    "\n",
    "class CNN(nn.Module):\n",
    "    def __init__(self):\n",
    "        super().__init__()\n",
    "        self.model = nn.Sequential(\n",
    "            nn.Conv2d(3, 6, 5),\n",
    "            nn.ReLU(),\n",
    "            nn.MaxPool2d(2, 2),\n",
    "            nn.Conv2d(6, 16, 5),\n",
    "            nn.ReLU(),\n",
    "            nn.MaxPool2d(2, 2),\n",
    "\n",
    "            nn.Flatten(),\n",
    "            nn.Linear(16 * 5 * 5, 120),\n",
    "            nn.ReLU(),\n",
    "            nn.Linear(120, 84),\n",
    "            nn.ReLU(),\n",
    "            nn.Linear(84, 10)\n",
    "        )\n",
    "\n",
    "    def forward(self, x):\n",
    "        return self.model(x)"
   ]
  },
  {
   "cell_type": "markdown",
   "id": "b3801705",
   "metadata": {
    "papermill": {
     "duration": 0.013351,
     "end_time": "2024-07-23T09:22:34.427763",
     "exception": false,
     "start_time": "2024-07-23T09:22:34.414412",
     "status": "completed"
    },
    "tags": []
   },
   "source": [
    "**3. Training với MLP**"
   ]
  },
  {
   "cell_type": "code",
   "execution_count": 6,
   "id": "c57c746a",
   "metadata": {
    "execution": {
     "iopub.execute_input": "2024-07-23T09:22:34.457697Z",
     "iopub.status.busy": "2024-07-23T09:22:34.457262Z",
     "iopub.status.idle": "2024-07-23T09:22:34.467582Z",
     "shell.execute_reply": "2024-07-23T09:22:34.466441Z"
    },
    "papermill": {
     "duration": 0.028656,
     "end_time": "2024-07-23T09:22:34.470161",
     "exception": false,
     "start_time": "2024-07-23T09:22:34.441505",
     "status": "completed"
    },
    "tags": []
   },
   "outputs": [],
   "source": [
    "def train_model(model, optimizer, criterion, train_dataloader, test_dataloader, epochs):\n",
    "  for epoch in range(epochs):\n",
    "\n",
    "    # Train\n",
    "    model.train()\n",
    "    train_loss = 0\n",
    "    for x_batch, y_batch in train_dataloader:\n",
    "      x_batch = x_batch.view(x_batch.size(0), -1)       # Flatten\n",
    "      optimizer.zero_grad()\n",
    "      y_pred = model(x_batch)\n",
    "      loss = criterion(y_pred, y_batch)\n",
    "      loss.backward()\n",
    "      optimizer.step()\n",
    "      train_loss += loss.item()\n",
    "\n",
    "    #Evaluate\n",
    "    model.eval()\n",
    "    eval_loss = 0\n",
    "    for x_batch, y_batch in test_dataloader:\n",
    "      x_batch = x_batch.view(x_batch.size(0), -1)       # Flatten\n",
    "      with torch.no_grad():\n",
    "        y_pred = model(x_batch)\n",
    "      loss = criterion(y_pred, y_batch)\n",
    "      eval_loss += loss.item()\n",
    "\n",
    "    avg_train_loss = (train_loss / len(train_dataloader))\n",
    "    avg_eval_loss = (eval_loss / len(test_dataloader))\n",
    "    print(f\"{epoch=}  {avg_train_loss=:.4f}  {avg_eval_loss=:.4f}\")"
   ]
  },
  {
   "cell_type": "code",
   "execution_count": 7,
   "id": "054b4a66",
   "metadata": {
    "execution": {
     "iopub.execute_input": "2024-07-23T09:22:34.500058Z",
     "iopub.status.busy": "2024-07-23T09:22:34.498901Z",
     "iopub.status.idle": "2024-07-23T09:28:29.760258Z",
     "shell.execute_reply": "2024-07-23T09:28:29.758592Z"
    },
    "papermill": {
     "duration": 355.279152,
     "end_time": "2024-07-23T09:28:29.763069",
     "exception": false,
     "start_time": "2024-07-23T09:22:34.483917",
     "status": "completed"
    },
    "tags": []
   },
   "outputs": [
    {
     "name": "stdout",
     "output_type": "stream",
     "text": [
      "epoch=0  avg_train_loss=2.4057  avg_eval_loss=2.1755\n",
      "epoch=1  avg_train_loss=2.1739  avg_eval_loss=2.1467\n",
      "epoch=2  avg_train_loss=2.0967  avg_eval_loss=2.1656\n",
      "epoch=3  avg_train_loss=2.0346  avg_eval_loss=2.0840\n",
      "epoch=4  avg_train_loss=2.0122  avg_eval_loss=2.0664\n",
      "epoch=5  avg_train_loss=1.9680  avg_eval_loss=2.1182\n",
      "epoch=6  avg_train_loss=1.9172  avg_eval_loss=2.0031\n",
      "epoch=7  avg_train_loss=1.8437  avg_eval_loss=2.1101\n",
      "epoch=8  avg_train_loss=1.8568  avg_eval_loss=2.2153\n",
      "epoch=9  avg_train_loss=1.8132  avg_eval_loss=2.0266\n",
      "epoch=10  avg_train_loss=1.7669  avg_eval_loss=2.0512\n",
      "epoch=11  avg_train_loss=1.7185  avg_eval_loss=2.0678\n",
      "epoch=12  avg_train_loss=1.6945  avg_eval_loss=2.0719\n",
      "epoch=13  avg_train_loss=1.6922  avg_eval_loss=2.0858\n",
      "epoch=14  avg_train_loss=1.6785  avg_eval_loss=2.1886\n"
     ]
    }
   ],
   "source": [
    "# Without PEFT\n",
    "\n",
    "module_without_PEFT = MLP(input_size=3072)\n",
    "criterion = nn.CrossEntropyLoss()\n",
    "optimizer = torch.optim.Adam(module_without_PEFT.parameters(), lr = 0.001)\n",
    "train_model(module_without_PEFT, optimizer, criterion, train_dataloader, test_dataloader, epochs = 15)"
   ]
  },
  {
   "cell_type": "code",
   "execution_count": 8,
   "id": "f95a5cb8",
   "metadata": {
    "execution": {
     "iopub.execute_input": "2024-07-23T09:28:29.796445Z",
     "iopub.status.busy": "2024-07-23T09:28:29.796021Z",
     "iopub.status.idle": "2024-07-23T09:28:29.892953Z",
     "shell.execute_reply": "2024-07-23T09:28:29.891923Z"
    },
    "papermill": {
     "duration": 0.11615,
     "end_time": "2024-07-23T09:28:29.895729",
     "exception": false,
     "start_time": "2024-07-23T09:28:29.779579",
     "status": "completed"
    },
    "tags": []
   },
   "outputs": [
    {
     "data": {
      "text/plain": [
       "[('', __main__.MLP),\n",
       " ('seq', torch.nn.modules.container.Sequential),\n",
       " ('seq.0', torch.nn.modules.linear.Linear),\n",
       " ('seq.1', torch.nn.modules.activation.ReLU),\n",
       " ('seq.2', torch.nn.modules.linear.Linear),\n",
       " ('seq.3', torch.nn.modules.activation.ReLU),\n",
       " ('seq.4', torch.nn.modules.linear.Linear)]"
      ]
     },
     "execution_count": 8,
     "metadata": {},
     "output_type": "execute_result"
    }
   ],
   "source": [
    "# With PEFT\n",
    "\n",
    "module_with_PEFT = MLP()\n",
    "[(name, type(func)) for name, func in module_with_PEFT.named_modules()]"
   ]
  },
  {
   "cell_type": "code",
   "execution_count": 9,
   "id": "405572a6",
   "metadata": {
    "execution": {
     "iopub.execute_input": "2024-07-23T09:28:29.928097Z",
     "iopub.status.busy": "2024-07-23T09:28:29.927649Z",
     "iopub.status.idle": "2024-07-23T09:35:16.649577Z",
     "shell.execute_reply": "2024-07-23T09:35:16.648136Z"
    },
    "papermill": {
     "duration": 406.759627,
     "end_time": "2024-07-23T09:35:16.670708",
     "exception": false,
     "start_time": "2024-07-23T09:28:29.911081",
     "status": "completed"
    },
    "tags": []
   },
   "outputs": [
    {
     "name": "stdout",
     "output_type": "stream",
     "text": [
      "trainable params: 96,586 || all params: 10,260,596 || trainable%: 0.9413\n",
      "None\n",
      "epoch=0  avg_train_loss=2.2682  avg_eval_loss=2.1804\n",
      "epoch=1  avg_train_loss=2.0656  avg_eval_loss=2.2606\n",
      "epoch=2  avg_train_loss=1.9573  avg_eval_loss=2.1115\n",
      "epoch=3  avg_train_loss=1.8992  avg_eval_loss=2.1004\n",
      "epoch=4  avg_train_loss=1.8017  avg_eval_loss=1.9507\n",
      "epoch=5  avg_train_loss=1.7633  avg_eval_loss=2.0915\n",
      "epoch=6  avg_train_loss=1.6858  avg_eval_loss=2.0574\n",
      "epoch=7  avg_train_loss=1.6265  avg_eval_loss=2.0051\n",
      "epoch=8  avg_train_loss=1.5286  avg_eval_loss=2.0748\n",
      "epoch=9  avg_train_loss=1.5655  avg_eval_loss=1.9459\n",
      "epoch=10  avg_train_loss=1.3941  avg_eval_loss=2.0033\n",
      "epoch=11  avg_train_loss=1.3810  avg_eval_loss=2.4486\n",
      "epoch=12  avg_train_loss=1.4702  avg_eval_loss=2.0705\n",
      "epoch=13  avg_train_loss=1.4001  avg_eval_loss=2.1218\n",
      "epoch=14  avg_train_loss=1.2450  avg_eval_loss=2.1730\n",
      "epoch=15  avg_train_loss=1.2339  avg_eval_loss=2.2570\n",
      "epoch=16  avg_train_loss=1.1956  avg_eval_loss=2.6887\n",
      "epoch=17  avg_train_loss=1.3082  avg_eval_loss=2.4304\n",
      "epoch=18  avg_train_loss=0.9881  avg_eval_loss=2.2979\n",
      "epoch=19  avg_train_loss=1.1711  avg_eval_loss=2.3070\n",
      "epoch=20  avg_train_loss=0.9724  avg_eval_loss=2.4382\n",
      "epoch=21  avg_train_loss=0.9493  avg_eval_loss=2.7838\n",
      "epoch=22  avg_train_loss=1.0175  avg_eval_loss=2.6563\n",
      "epoch=23  avg_train_loss=0.8962  avg_eval_loss=2.3761\n",
      "epoch=24  avg_train_loss=0.7797  avg_eval_loss=2.8282\n",
      "epoch=25  avg_train_loss=0.8723  avg_eval_loss=2.5916\n",
      "epoch=26  avg_train_loss=0.9933  avg_eval_loss=2.6076\n",
      "epoch=27  avg_train_loss=0.8301  avg_eval_loss=2.6171\n",
      "epoch=28  avg_train_loss=0.7179  avg_eval_loss=2.8161\n",
      "epoch=29  avg_train_loss=0.6809  avg_eval_loss=2.6821\n"
     ]
    }
   ],
   "source": [
    "config = peft.LoraConfig(\n",
    "    r=8,\n",
    "    lora_dropout=0.05,\n",
    "    target_modules = [\"seq.0\", \"seq.2\"],\n",
    "    modules_to_save = [\"seq.4\"],\n",
    "    bias=\"lora_only\",\n",
    "    task_type=\"classification\"\n",
    ")\n",
    "\n",
    "peft_model = peft.get_peft_model(module_with_PEFT, config)\n",
    "optimizer = torch.optim.Adam(peft_model.parameters(), lr = 0.001)\n",
    "criterion = nn.CrossEntropyLoss()\n",
    "\n",
    "print(peft_model.print_trainable_parameters())\n",
    "train_model(peft_model, optimizer, criterion, train_dataloader, test_dataloader, epochs = 30)"
   ]
  },
  {
   "cell_type": "markdown",
   "id": "9b40a85f",
   "metadata": {
    "papermill": {
     "duration": 0.017716,
     "end_time": "2024-07-23T09:35:16.706768",
     "exception": false,
     "start_time": "2024-07-23T09:35:16.689052",
     "status": "completed"
    },
    "tags": []
   },
   "source": [
    "**4. Training với CNN**"
   ]
  },
  {
   "cell_type": "code",
   "execution_count": 10,
   "id": "4872e259",
   "metadata": {
    "execution": {
     "iopub.execute_input": "2024-07-23T09:35:16.744569Z",
     "iopub.status.busy": "2024-07-23T09:35:16.744159Z",
     "iopub.status.idle": "2024-07-23T09:35:16.754421Z",
     "shell.execute_reply": "2024-07-23T09:35:16.753254Z"
    },
    "papermill": {
     "duration": 0.032255,
     "end_time": "2024-07-23T09:35:16.756984",
     "exception": false,
     "start_time": "2024-07-23T09:35:16.724729",
     "status": "completed"
    },
    "tags": []
   },
   "outputs": [],
   "source": [
    "def train_model(model, optimizer, criterion, train_dataloader, test_dataloader, epochs):\n",
    "  for epoch in range(epochs):\n",
    "\n",
    "    # Train\n",
    "    model.train()\n",
    "    train_loss = 0\n",
    "    for x_batch, y_batch in train_dataloader:\n",
    "      optimizer.zero_grad()\n",
    "      # No flatten\n",
    "      y_pred = model(x_batch)\n",
    "      loss = criterion(y_pred, y_batch)\n",
    "      loss.backward()\n",
    "      optimizer.step()\n",
    "      train_loss += loss.item()\n",
    "\n",
    "    #Evaluate\n",
    "    model.eval()\n",
    "    eval_loss = 0\n",
    "    for x_batch, y_batch in test_dataloader:\n",
    "      # No flatten\n",
    "      with torch.no_grad():\n",
    "        y_pred = model(x_batch)\n",
    "      loss = criterion(y_pred, y_batch)\n",
    "      eval_loss += loss.item()\n",
    "\n",
    "    avg_train_loss = (train_loss / len(train_dataloader))\n",
    "    avg_eval_loss = (eval_loss / len(test_dataloader))\n",
    "    print(f\"{epoch=}  {avg_train_loss=:.4f}  {avg_eval_loss=:.4f}\")"
   ]
  },
  {
   "cell_type": "code",
   "execution_count": 11,
   "id": "cbdceaf2",
   "metadata": {
    "execution": {
     "iopub.execute_input": "2024-07-23T09:35:16.794938Z",
     "iopub.status.busy": "2024-07-23T09:35:16.794438Z",
     "iopub.status.idle": "2024-07-23T09:36:22.024359Z",
     "shell.execute_reply": "2024-07-23T09:36:22.022478Z"
    },
    "papermill": {
     "duration": 65.252178,
     "end_time": "2024-07-23T09:36:22.027263",
     "exception": false,
     "start_time": "2024-07-23T09:35:16.775085",
     "status": "completed"
    },
    "tags": []
   },
   "outputs": [
    {
     "name": "stdout",
     "output_type": "stream",
     "text": [
      "epoch=0  avg_train_loss=2.2891  avg_eval_loss=2.2584\n",
      "epoch=1  avg_train_loss=2.1644  avg_eval_loss=2.0797\n",
      "epoch=2  avg_train_loss=1.9897  avg_eval_loss=1.9770\n",
      "epoch=3  avg_train_loss=1.8998  avg_eval_loss=2.0900\n",
      "epoch=4  avg_train_loss=1.8307  avg_eval_loss=1.9443\n",
      "epoch=5  avg_train_loss=1.7407  avg_eval_loss=1.8440\n",
      "epoch=6  avg_train_loss=1.7127  avg_eval_loss=1.8671\n",
      "epoch=7  avg_train_loss=1.5935  avg_eval_loss=2.0219\n",
      "epoch=8  avg_train_loss=1.5646  avg_eval_loss=1.8672\n",
      "epoch=9  avg_train_loss=1.4709  avg_eval_loss=1.8704\n",
      "epoch=10  avg_train_loss=1.3943  avg_eval_loss=1.8419\n",
      "epoch=11  avg_train_loss=1.2986  avg_eval_loss=2.0282\n",
      "epoch=12  avg_train_loss=1.2572  avg_eval_loss=1.9486\n",
      "epoch=13  avg_train_loss=1.1471  avg_eval_loss=2.1445\n",
      "epoch=14  avg_train_loss=1.0185  avg_eval_loss=2.1470\n"
     ]
    }
   ],
   "source": [
    "# Without PEFT\n",
    "\n",
    "module_without_PEFT = CNN()\n",
    "criterion = nn.CrossEntropyLoss()\n",
    "optimizer = torch.optim.Adam(module_without_PEFT.parameters(), lr = 0.001)\n",
    "train_model(module_without_PEFT, optimizer, criterion, train_dataloader, test_dataloader, epochs = 15)"
   ]
  },
  {
   "cell_type": "code",
   "execution_count": 12,
   "id": "a56c143d",
   "metadata": {
    "execution": {
     "iopub.execute_input": "2024-07-23T09:36:22.068468Z",
     "iopub.status.busy": "2024-07-23T09:36:22.068072Z",
     "iopub.status.idle": "2024-07-23T09:36:22.081105Z",
     "shell.execute_reply": "2024-07-23T09:36:22.079852Z"
    },
    "papermill": {
     "duration": 0.036675,
     "end_time": "2024-07-23T09:36:22.083677",
     "exception": false,
     "start_time": "2024-07-23T09:36:22.047002",
     "status": "completed"
    },
    "tags": []
   },
   "outputs": [
    {
     "data": {
      "text/plain": [
       "[('', __main__.CNN),\n",
       " ('model', torch.nn.modules.container.Sequential),\n",
       " ('model.0', torch.nn.modules.conv.Conv2d),\n",
       " ('model.1', torch.nn.modules.activation.ReLU),\n",
       " ('model.2', torch.nn.modules.pooling.MaxPool2d),\n",
       " ('model.3', torch.nn.modules.conv.Conv2d),\n",
       " ('model.4', torch.nn.modules.activation.ReLU),\n",
       " ('model.5', torch.nn.modules.pooling.MaxPool2d),\n",
       " ('model.6', torch.nn.modules.flatten.Flatten),\n",
       " ('model.7', torch.nn.modules.linear.Linear),\n",
       " ('model.8', torch.nn.modules.activation.ReLU),\n",
       " ('model.9', torch.nn.modules.linear.Linear),\n",
       " ('model.10', torch.nn.modules.activation.ReLU),\n",
       " ('model.11', torch.nn.modules.linear.Linear)]"
      ]
     },
     "execution_count": 12,
     "metadata": {},
     "output_type": "execute_result"
    }
   ],
   "source": [
    "# With PEFT\n",
    "\n",
    "module_with_PEFT = CNN()\n",
    "[(name, type(func)) for name, func in module_with_PEFT.named_modules()]"
   ]
  },
  {
   "cell_type": "code",
   "execution_count": 13,
   "id": "63ea4e5d",
   "metadata": {
    "execution": {
     "iopub.execute_input": "2024-07-23T09:36:22.125954Z",
     "iopub.status.busy": "2024-07-23T09:36:22.124891Z",
     "iopub.status.idle": "2024-07-23T09:40:02.200559Z",
     "shell.execute_reply": "2024-07-23T09:40:02.199190Z"
    },
    "papermill": {
     "duration": 220.099914,
     "end_time": "2024-07-23T09:40:02.203274",
     "exception": false,
     "start_time": "2024-07-23T09:36:22.103360",
     "status": "completed"
    },
    "tags": []
   },
   "outputs": [
    {
     "name": "stdout",
     "output_type": "stream",
     "text": [
      "trainable params: 8,756 || all params: 70,526 || trainable%: 12.4153\n",
      "None\n",
      "epoch=0  avg_train_loss=2.3068  avg_eval_loss=2.3017\n",
      "epoch=1  avg_train_loss=2.2919  avg_eval_loss=2.2923\n",
      "epoch=2  avg_train_loss=2.2074  avg_eval_loss=2.1942\n",
      "epoch=3  avg_train_loss=2.0769  avg_eval_loss=2.1651\n",
      "epoch=4  avg_train_loss=2.0262  avg_eval_loss=2.0370\n",
      "epoch=5  avg_train_loss=1.9815  avg_eval_loss=2.0818\n",
      "epoch=6  avg_train_loss=1.9559  avg_eval_loss=2.0375\n",
      "epoch=7  avg_train_loss=1.9160  avg_eval_loss=2.0552\n",
      "epoch=8  avg_train_loss=1.8979  avg_eval_loss=1.9638\n",
      "epoch=9  avg_train_loss=1.8733  avg_eval_loss=1.9326\n",
      "epoch=10  avg_train_loss=1.8236  avg_eval_loss=1.9129\n",
      "epoch=11  avg_train_loss=1.8068  avg_eval_loss=1.9308\n",
      "epoch=12  avg_train_loss=1.7815  avg_eval_loss=1.9599\n",
      "epoch=13  avg_train_loss=1.7188  avg_eval_loss=1.9078\n",
      "epoch=14  avg_train_loss=1.7303  avg_eval_loss=1.9657\n",
      "epoch=15  avg_train_loss=1.6900  avg_eval_loss=1.8878\n",
      "epoch=16  avg_train_loss=1.6580  avg_eval_loss=1.9014\n",
      "epoch=17  avg_train_loss=1.6423  avg_eval_loss=1.9701\n",
      "epoch=18  avg_train_loss=1.6152  avg_eval_loss=1.8876\n",
      "epoch=19  avg_train_loss=1.6044  avg_eval_loss=1.9006\n",
      "epoch=20  avg_train_loss=1.5973  avg_eval_loss=1.9385\n",
      "epoch=21  avg_train_loss=1.5977  avg_eval_loss=1.8774\n",
      "epoch=22  avg_train_loss=1.5470  avg_eval_loss=1.9201\n",
      "epoch=23  avg_train_loss=1.5519  avg_eval_loss=1.8860\n",
      "epoch=24  avg_train_loss=1.5264  avg_eval_loss=1.9595\n",
      "epoch=25  avg_train_loss=1.4946  avg_eval_loss=2.0298\n",
      "epoch=26  avg_train_loss=1.5130  avg_eval_loss=1.9940\n",
      "epoch=27  avg_train_loss=1.4792  avg_eval_loss=1.9415\n",
      "epoch=28  avg_train_loss=1.4796  avg_eval_loss=1.9824\n",
      "epoch=29  avg_train_loss=1.4297  avg_eval_loss=1.9470\n"
     ]
    }
   ],
   "source": [
    "config = peft.LoraConfig(\n",
    "    r=8,\n",
    "    lora_dropout=0.05,\n",
    "    target_modules = [\"model.0\", \"model.3\",\"model.7\", \"model.9\", \"model.11\"],\n",
    "    bias=\"lora_only\",\n",
    "    task_type=\"classification\"\n",
    ")\n",
    "\n",
    "peft_model = peft.get_peft_model(module_with_PEFT, config)\n",
    "optimizer = torch.optim.Adam(peft_model.parameters(), lr = 0.001)\n",
    "criterion = nn.CrossEntropyLoss()\n",
    "\n",
    "print(peft_model.print_trainable_parameters())\n",
    "train_model(peft_model, optimizer, criterion, train_dataloader, test_dataloader, epochs = 30)"
   ]
  }
 ],
 "metadata": {
  "kaggle": {
   "accelerator": "none",
   "dataSources": [],
   "dockerImageVersionId": 30746,
   "isGpuEnabled": false,
   "isInternetEnabled": true,
   "language": "python",
   "sourceType": "notebook"
  },
  "kernelspec": {
   "display_name": "Python 3",
   "language": "python",
   "name": "python3"
  },
  "language_info": {
   "codemirror_mode": {
    "name": "ipython",
    "version": 3
   },
   "file_extension": ".py",
   "mimetype": "text/x-python",
   "name": "python",
   "nbconvert_exporter": "python",
   "pygments_lexer": "ipython3",
   "version": "3.10.13"
  },
  "papermill": {
   "default_parameters": {},
   "duration": 1092.814768,
   "end_time": "2024-07-23T09:40:03.556768",
   "environment_variables": {},
   "exception": null,
   "input_path": "__notebook__.ipynb",
   "output_path": "__notebook__.ipynb",
   "parameters": {},
   "start_time": "2024-07-23T09:21:50.742000",
   "version": "2.5.0"
  }
 },
 "nbformat": 4,
 "nbformat_minor": 5
}
